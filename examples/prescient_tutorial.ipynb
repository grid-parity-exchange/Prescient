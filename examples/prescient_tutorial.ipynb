{
 "cells": [
  {
   "cell_type": "markdown",
   "metadata": {},
   "source": [
    "# Prescient Tutorial"
   ]
  },
  {
   "cell_type": "markdown",
   "metadata": {},
   "source": [
    "## Getting Started\n",
    "This is a tutorial to demonstration the basic functionality of Prescient. Please follow the installation instructions in the [README](https://github.com/grid-parity-exchange/Prescient/blob/master/README.md) before proceeding. This tutorial will assume we are using the CBC MIP solver, however, we will point out where one could use a different solver (CPLEX, Gurobi, Xpress)."
   ]
  },
  {
   "cell_type": "markdown",
   "metadata": {},
   "source": [
    "## RTS-GMLC\n",
    "We will use the RTS-GMLC test system as a demonstration. Prescient comes included with a translator for the RTS-GMLC system data, which is publically available [here](https://github.com/GridMod/RTS-GMLC). To find out more about the RTS-GMLC system, or if you use the RTS-GMLC system in published research, please see or cite the [RTS-GMLC paper](https://ieeexplore.ieee.org/stamp/stamp.jsp?tp=&arnumber=8753693&isnumber=4374138&tag=1)."
   ]
  },
  {
   "cell_type": "markdown",
   "metadata": {},
   "source": [
    "## IMPORTANT NOTE\n",
    "In the near future, the dev-team will allow more-direct reading of data in the \"RTS-GMLC\" format directly into the simulator. In the past, we have created one-off scripts for each data set to put then in the format required by the populator."
   ]
  },
  {
   "cell_type": "markdown",
   "metadata": {},
   "source": [
    "### Downloading the RTS-GMLC data"
   ]
  },
  {
   "cell_type": "code",
   "execution_count": null,
   "metadata": {},
   "outputs": [],
   "source": [
    "# first, we'll use the built-in function to download the RTS-GMLC system to Prescicent/downloads/rts_gmlc\n",
    "import prescient.downloaders.rts_gmlc as rts_downloader\n",
    "\n",
    "# the download function has the path Prescient/downloads/rts_gmlc hard-coded.\n",
    "# All it does is a 'git clone' of the RTS-GMLC repo\n",
    "rts_downloader.download()"
   ]
  },
  {
   "cell_type": "code",
   "execution_count": null,
   "metadata": {},
   "outputs": [],
   "source": [
    "# we should be able to see the RTS-GMLC data now\n",
    "import os\n",
    "rts_gmlc_dir = rts_downloader.rts_download_path+os.sep+'RTS-GMLC'\n",
    "print(rts_gmlc_dir)\n",
    "os.listdir(rts_gmlc_dir)"
   ]
  },
  {
   "cell_type": "markdown",
   "metadata": {},
   "source": [
    "### Converting RTS-GMLC data into the format for the \"populator\""
   ]
  },
  {
   "cell_type": "code",
   "execution_count": null,
   "metadata": {},
   "outputs": [],
   "source": [
    "# first thing we'll do is to create a *.dat file template for the \"static\" data, e.g.,\n",
    "# branches, buses, generators, to Prescicent/downloads/rts_gmlc/templates/rts_with_network_template_hotstart.dat\n",
    "from prescient.downloaders.rts_gmlc_prescient.rtsgmlc_to_dat import write_template\n",
    "write_template(rts_gmlc_dir=rts_gmlc_dir,\n",
    "        file_name=rts_downloader.rts_download_path+os.sep+'templates'+os.sep+'rts_with_network_template_hotstart.dat')"
   ]
  },
  {
   "cell_type": "code",
   "execution_count": null,
   "metadata": {},
   "outputs": [],
   "source": [
    "# next, we'll convert the included time-series data into input for the populator\n",
    "# (this step can take a while because we set up an entire year's worth of data)\n",
    "from prescient.downloaders.rts_gmlc_prescient.process_RTS_GMLC_data import create_timeseries\n",
    "create_timeseries(rts_downloader.rts_download_path)"
   ]
  },
  {
   "cell_type": "code",
   "execution_count": null,
   "metadata": {},
   "outputs": [],
   "source": [
    "# Lastly, Prescient comes with some pre-made scripts and templates to help get up-and-running with RTS-GMLC.\n",
    "# This function just puts those in rts_downloader.rts_download_path from \n",
    "# Prescient/prescient/downloaders/rts_gmlc_prescient/runners\n",
    "rts_downloader.copy_templates()\n",
    "os.listdir(rts_downloader.rts_download_path)"
   ]
  },
  {
   "cell_type": "markdown",
   "metadata": {},
   "source": [
    "NOTE: the above steps are completely automated in the `__main__` function of Prescient/prescient/downloaders/rts_gmlc.py"
   ]
  },
  {
   "cell_type": "markdown",
   "metadata": {},
   "source": [
    "### Running the populator\n",
    "Below we'll show how the populator is set-up by the scripts above an subsequently run."
   ]
  },
  {
   "cell_type": "code",
   "execution_count": null,
   "metadata": {},
   "outputs": [],
   "source": [
    "# we'll work in the directory we've set up now for\n",
    "# running the populator and simulator\n",
    "\n",
    "# If prescient is properly installed, this could be\n",
    "# a directory anywhere on your system\n",
    "os.chdir(rts_downloader.rts_download_path)\n",
    "os.getcwd()"
   ]
  },
  {
   "cell_type": "code",
   "execution_count": null,
   "metadata": {},
   "outputs": [],
   "source": [
    "# helper for displaying *.txt files in jupyter\n",
    "def print_file(file_n):\n",
    "    '''prints file contents to the screen'''\n",
    "    with open(file_n, 'r') as f:\n",
    "        for l in f:\n",
    "            print(l.strip())"
   ]
  },
  {
   "cell_type": "markdown",
   "metadata": {},
   "source": [
    "Generally, one would call `runner.py populate_with_network_deterministic.txt` to set-up the data for the simulator. We'll give a brief overview below as to how that is orchestrated."
   ]
  },
  {
   "cell_type": "code",
   "execution_count": null,
   "metadata": {},
   "outputs": [],
   "source": [
    "print_file('populate_with_network_deterministic.txt')"
   ]
  },
  {
   "cell_type": "markdown",
   "metadata": {},
   "source": [
    "First, notice the `command/exec` line, which tells `runner.py` which command to execute. These `*.txt` files could be replaced with bash scripts, or run from the command line directly. In this case,\n",
    "\n",
    "`populator.py --start-date 2020-07-10 --end-date 2020-07-16 --source-file sources_with_network.txt --output-directory deterministic_with_network_scenarios --scenario-creator-options-file deterministic_scenario_creator_with_network.txt \n",
    "--traceback`\n",
    "\n",
    "would give the same result. The use of the `*.txt` files enables saving these complex commands in a cross-platform compatable manner.\n",
    "\n",
    "The `--start-date` and `--end-date` specify the date range for which we'll generate simulator input. The `--ouput-directory` gives the path (relative in this case) where the simulator input (the output of this script) should go. The `--sources-file` and `--scenario-creator-options-file` point to other `*.txt` files."
   ]
  },
  {
   "cell_type": "markdown",
   "metadata": {},
   "source": [
    "#### --scenario-creator-options-file"
   ]
  },
  {
   "cell_type": "code",
   "execution_count": null,
   "metadata": {},
   "outputs": [],
   "source": [
    "print_file('deterministic_scenario_creator_with_network.txt')"
   ]
  },
  {
   "cell_type": "markdown",
   "metadata": {},
   "source": [
    "This file points the `scenario_creator` to the templates created/copied above, which store the \"static\" prescient data, e.g., `--sceneario-template-file` points to the bus/branch/generator data. The `--tree-template-file` is depreciated at this point, pending re-introdcution of stochastic unit commitment capabilities.\n"
   ]
  },
  {
   "cell_type": "code",
   "execution_count": null,
   "metadata": {},
   "outputs": [],
   "source": [
    "# This prints out the files entire contents, just to look at.\n",
    "# See if you can find the set \"NondispatchableGenerators\"\n",
    "print_file('templates/rts_with_network_template_hotstart.dat')"
   ]
  },
  {
   "cell_type": "markdown",
   "metadata": {},
   "source": [
    "#### --sources-file"
   ]
  },
  {
   "cell_type": "code",
   "execution_count": null,
   "metadata": {},
   "outputs": [],
   "source": [
    "print_file('sources_with_network.txt')"
   ]
  },
  {
   "cell_type": "markdown",
   "metadata": {},
   "source": [
    "This file connects each \"Source\" (e.g., `122_HYDRO_1`) in the file `templates/rts_with_network_template_hotstart.dat` to the `*.csv` files generated above for both load and renewable generation. Other things controlled here are whether a renewable resource is dispatchable at all."
   ]
  },
  {
   "cell_type": "code",
   "execution_count": null,
   "metadata": {},
   "outputs": [],
   "source": [
    "# You could also run 'runner.py populate_with_network_deterministic.txt' from the command line\n",
    "import prescient.scripts.runner as runner\n",
    "runner.run('populate_with_network_deterministic.txt')"
   ]
  },
  {
   "cell_type": "markdown",
   "metadata": {},
   "source": [
    "This creates the \"input deck\" for July 10, 2020 -- July 16, 2020 for the simulator in the ouput directory `determinstic_with_network_scenarios`."
   ]
  },
  {
   "cell_type": "code",
   "execution_count": null,
   "metadata": {},
   "outputs": [],
   "source": [
    "sorted(os.listdir('deterministic_with_network_scenarios'+os.sep+'pyspdir_twostage'))"
   ]
  },
  {
   "cell_type": "markdown",
   "metadata": {},
   "source": [
    "Inside each of these directories are the `*.dat` files specifying the simulation for each day."
   ]
  },
  {
   "cell_type": "code",
   "execution_count": null,
   "metadata": {},
   "outputs": [],
   "source": [
    "sorted(os.listdir('deterministic_with_network_scenarios'+os.sep+'pyspdir_twostage'+os.sep+'2020-07-10'))"
   ]
  },
  {
   "cell_type": "markdown",
   "metadata": {},
   "source": [
    "`Scenario_actuals.dat` contains the \"actuals\" for the day, which is used for the SCED problems, and `Scenario_forecast.dat` contains the \"forecasts\" for the day. The other `*.dat` files are hold-overs from stochastic mode.\n",
    "\n",
    "`scenarios.csv` has forecast and actuals data for every uncertain generator in an easy-to-process format."
   ]
  },
  {
   "cell_type": "markdown",
   "metadata": {},
   "source": [
    "### Running the simulator\n",
    "Below we show how to set-up and run the simulator."
   ]
  },
  {
   "cell_type": "markdown",
   "metadata": {},
   "source": [
    "Below is the contents of the included `simulate_with_network_deterministic.txt`:"
   ]
  },
  {
   "cell_type": "code",
   "execution_count": null,
   "metadata": {},
   "outputs": [],
   "source": [
    "print_file('simulate_with_network_deterministic.txt')"
   ]
  },
  {
   "cell_type": "markdown",
   "metadata": {},
   "source": [
    "Description of the options included are as follows:\n",
    " - `--data-directory`: Where the source data is (same as outputs for the populator).\n",
    " - `--simulate-out-of-sample`: This option directs the simulator to use different forecasts from actuals. Without it, the simulation is run with forecasts equal to actuals\n",
    " - `--run-sced-with-persistent-forecast-errors`: This option directs the simulator to use forecasts (adjusted by the current forecast error) for sced look-ahead periods, instead of using the actuals for sced look-ahead periods.\n",
    " - `--output-directory`: Where to write the output data.\n",
    " - `--run-deterministic-ruc`: Directs the simualtor to run a deterministic (as opposed to stochastic) unit commitment problem. Required for now as stochastic unit commitment is currently deprecated.\n",
    " - `--start-date`: Day to start the simulation on. Must be in the data-directory.\n",
    " - `--num-days`: Number of days to simulate, including the start date. All days must be included in the data-directory.\n",
    " - `--sced-horizon`: Number of look-ahead periods (in hours) for the real-time economic dispatch problem.\n",
    " - `--traceback`: If enabled, the simulator will print a trace if it failed.\n",
    " - `--random-seed`: Unused currently.\n",
    " - `--output-sced-initial-conditions`: Prints the initial conditions for the economic dispatch problem to the screen.\n",
    " - `--output-sced-demands`: Prints the demands for the economic dispatch problem to the screen.\n",
    " - `--output-sced-solutions`: Prints the solution for the economic dispatch problem to the screen.\n",
    " - `--output-ruc-initial-conditions`: Prints the initial conditions for the unit commitment problem to the screen.\n",
    " - `--output-ruc-solutions`: Prints the commitment solution for the unit commitment problem to the screen.\n",
    " - `--output-ruc-dispatches`: Prints the dispatch solution for the unit commitment problem to the screen.\n",
    " - `--output-solver-logs`: Prints the logs from the optimization solver (CBC, CPLEX, Gurobi, Xpress) to the screen.\n",
    " - `--ruc-mipgap`: Optimality gap to use for the unit commitment problem. Default is 1% used here -- can often be tighted for commerical solvers.\n",
    " - `--symbolic-solver-labels`: If set, `symbolic_solver_labels` is used when writing optimization models from Pyomo to the solver. Only useful for low-level debugging.\n",
    " - `--reserve-factor`: If set, overwrites any basic reserve factor included in the test data.\n",
    " - `--deterministic-ruc-solver`: The optimization solver ('cbc', 'cplex', 'gurobi', 'xpress') used for the unit commitment problem.\n",
    " - `--sced-solver`: The optimization solver ('cbc', 'cplex', 'gurobi', 'xpress') used for the economic dispatch problem.\n",
    "\n",
    "Other options not included in this file, which may be useful:\n",
    " - `--compute-market-settlements`: (True/False) If enabled, solves a day-ahead pricing problem (in addition to the real-time pricing problem) and computes generator revenue based on day-ahead and real-time prices.\n",
    " - `--day-ahead-pricing`: ('LMP', 'ELMP', 'aCHP') Specifies the type of day-ahead price to use. Default is 'aCHP'.\n",
    " - `--price-threashold`: The maximum value for the energy price ($/MWh). Useful for when market settlements are computed to avoid very large LMP values when load shedding occurs.\n",
    " - `--reserve-price-threashold`: The maximum value for the reserve price (\\$/MW). Useful for when market settlements are computed to avoid very large LMP values when reserve shortfall occurs.\n",
    " - `--deterministic-ruc-solver-options`: Options to pass into the unit commitment solver (specific to the solver used) for every unit commitment solve.\n",
    " - `--sced-solver-options`: Options to pass into the economic dispatch solve (specific to the solver used) for every economic dispatch solve.\n",
    " - `--plugin`: Path to a Python module to modify Prescient behavior."
   ]
  },
  {
   "cell_type": "code",
   "execution_count": null,
   "metadata": {},
   "outputs": [],
   "source": [
    "# You could also run 'runner.py simulate_with_network_deterministic.txt' from the command line\n",
    "# This runs a week of RTS-GMLC, which with the open-source cbc solver will take several (~12) minutes\n",
    "import prescient.scripts.runner as runner\n",
    "runner.run('simulate_with_network_deterministic.txt')"
   ]
  },
  {
   "cell_type": "markdown",
   "metadata": {},
   "source": [
    "### Analyzing results\n",
    "Summary and detailed `*.csv` files are written to the specified output directory (in this case, `deterministic_with_network_simulation_output`)."
   ]
  },
  {
   "cell_type": "code",
   "execution_count": null,
   "metadata": {},
   "outputs": [],
   "source": [
    "sorted(os.listdir('deterministic_with_network_simulation_output/'))"
   ]
  },
  {
   "cell_type": "markdown",
   "metadata": {},
   "source": [
    "Below we give a breif description of the contents of each file.\n",
    "- `bus_detail.csv`: Detailed results (demand, LMP, etc.) by bus.\n",
    "- `daily_summary.csv`: Summary results by day. Demand, renewables data, costs, load shedding/over generation, etc.\n",
    "- `hourly_gen_summary.csv`: Gives total thermal headroom and data on reserves (shortfall, price) by hour.\n",
    "- `hourly_summary.csv`: Summary results by hour. Similar to `daily_summary.csv`.\n",
    "- `line_detail.csv`: Detailed results (flow in MW) by bus.\n",
    "- `overall_simulation_output.csv`: Summary results for the entire simulation run. Similar to `daily_summary.csv`.\n",
    "- `plots`: Directory containing stackgraphs for every day of the simulation.\n",
    "- `renewables_detail.csv`: Detailed results (output, curtailment) by renewable generator.\n",
    "- `runtimes.csv`: Runtimes for each economic dispatch problem.\n",
    "- `thermal_detail.csv`: Detailed results (dispatch, commitment, costs) per thermal generator."
   ]
  },
  {
   "cell_type": "markdown",
   "metadata": {},
   "source": [
    "Generally, the first think to look at, as a sanity check is the stackgraphs:"
   ]
  },
  {
   "cell_type": "code",
   "execution_count": null,
   "metadata": {
    "scrolled": true
   },
   "outputs": [],
   "source": [
    "dates = [f'2020-07-1{i}' for i in range(0,7)]\n",
    "from IPython.display import Image\n",
    "for date in dates:\n",
    "    display(Image('deterministic_with_network_simulation_output'+os.sep+'plots'+os.sep+'stackgraph_'+date+'.png',\n",
    "                   width=500))"
   ]
  },
  {
   "cell_type": "markdown",
   "metadata": {},
   "source": [
    "Due to the non-deterministic nature of most MIP solvers, your results may be slightly different than mine. For my simulation, two things stand out:\n",
    "1. The load-shedding at the end of the day (hour 23) on July 12th.\n",
    "2. The renewables curtailed the evening of July 15th into the morning of July 16th.\n",
    "\n",
    "For this tutorial, let's hypothesize about the cause of (2). Often renewables are curtailed either because of a binding transmission constraint, or because some or all of the thermal generators are operating at minimum power. Let's investigate the first possibility."
   ]
  },
  {
   "cell_type": "markdown",
   "metadata": {},
   "source": [
    "#### Examining Loaded Transmission Lines"
   ]
  },
  {
   "cell_type": "code",
   "execution_count": null,
   "metadata": {},
   "outputs": [],
   "source": [
    "import pandas as pd\n",
    "# load in the output data for the lines\n",
    "line_flows = pd.read_csv('deterministic_with_network_simulation_output'+os.sep+'line_detail.csv', index_col=[0,1,2])\n",
    "\n",
    "# load in the source data for the lines\n",
    "line_attributes = pd.read_csv('RTS-GMLC'+os.sep+'RTS_Data'+os.sep+'SourceData'+os.sep+'branch.csv', index_col=0)\n",
    "\n",
    "# get the line limits\n",
    "line_limits = line_attributes['Cont Rating']\n",
    "\n",
    "# get a series of flows\n",
    "line_flows = line_flows['Flow']"
   ]
  },
  {
   "cell_type": "code",
   "execution_count": null,
   "metadata": {},
   "outputs": [],
   "source": [
    "line_flows"
   ]
  },
  {
   "cell_type": "code",
   "execution_count": null,
   "metadata": {},
   "outputs": [],
   "source": [
    "# rename the line_limits to match the\n",
    "# index of line_flows\n",
    "line_limits.index.name = \"Line\"\n",
    "line_limits"
   ]
  },
  {
   "cell_type": "code",
   "execution_count": null,
   "metadata": {},
   "outputs": [],
   "source": [
    "lines_relative_flow = line_flows/line_limits"
   ]
  },
  {
   "cell_type": "code",
   "execution_count": null,
   "metadata": {},
   "outputs": [],
   "source": [
    "lines_near_limits_time = lines_relative_flow[ (lines_relative_flow > 0.99) | (lines_relative_flow < -0.99) ]"
   ]
  },
  {
   "cell_type": "code",
   "execution_count": null,
   "metadata": {},
   "outputs": [],
   "source": [
    "lines_near_limits_time"
   ]
  },
  {
   "cell_type": "markdown",
   "metadata": {},
   "source": [
    "As we can see, near the end of the day on July 15th and the beginning of the day July 16th, several transmission constraints are binding, which correspond exactly to the periods of renewables curtailment in the stackgraphs above."
   ]
  }
 ],
 "metadata": {
  "kernelspec": {
   "display_name": "Python 3",
   "language": "python",
   "name": "python3"
  },
  "language_info": {
   "codemirror_mode": {
    "name": "ipython",
    "version": 3
   },
   "file_extension": ".py",
   "mimetype": "text/x-python",
   "name": "python",
   "nbconvert_exporter": "python",
   "pygments_lexer": "ipython3",
   "version": "3.7.7"
  }
 },
 "nbformat": 4,
 "nbformat_minor": 4
}
