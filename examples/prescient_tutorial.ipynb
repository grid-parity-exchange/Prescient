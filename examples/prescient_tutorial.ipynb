{
 "cells": [
  {
   "cell_type": "markdown",
   "metadata": {},
   "source": [
    "# Prescient Tutorial"
   ]
  },
  {
   "cell_type": "markdown",
   "metadata": {},
   "source": [
    "## Getting Started\n",
    "This is a tutorial to demonstration the basic functionality of Prescient. Please follow the installation instructions in the [README](https://github.com/grid-parity-exchange/Prescient/blob/master/README.md) before proceeding. This tutorial will assume we are using the CBC MIP solver, however, we will point out where one could use a different solver (CPLEX, Gurobi, Xpress). For larger systems, a commerical MIP solver is recommended."
   ]
  },
  {
   "cell_type": "markdown",
   "metadata": {},
   "source": [
    "## Sample 5-bus case\n",
    "We will use the example 5-bas case that comes with Prescient. This example is in the \"rts-gmlc\" format for Prescient, which designed to be compatable with the RTS-GMLC dataset (publically available [here](https://github.com/GridMod/RTS-GMLC)). To find out more about the RTS-GMLC system, or if you use the RTS-GMLC system in published research, please see or cite the [RTS-GMLC paper](https://ieeexplore.ieee.org/stamp/stamp.jsp?tp=&arnumber=8753693&isnumber=4374138&tag=1).\n",
    "\n",
    "The format is defined as a collection of csv files, devided into \"static\" system data and time-varing system data. The static data include branches (`branch.csv`), buses (`bus.csv`), generators (`gen.csv`), initial generator status (`initial_status.csv`), reserves (`reserves.csv`). The file `timeseries_pointers.csv` links static attributes defined in the aforementioned files to time-varying attributes, for quantities such as load, reserve requirement, and renewables output. Critically, Prescient requires both a day-ahead time series, which serves as a forecasted value for the day-ahead unit commitment problem, and a real-time time series, which is uses as the realized values in the real-time economic dispatch problem. The file `simulation_objects.csv` provides metadata on the time series data, such as begin date, end date, and the temporal resolution.\n",
    "\n",
    "A complete description of the RTS-GMLC format can be found in the [RTS-GMLC repository](https://github.com/GridMod/RTS-GMLC/tree/master/RTS_Data/SourceData)."
   ]
  },
  {
   "cell_type": "code",
   "execution_count": null,
   "metadata": {},
   "outputs": [],
   "source": [
    "import os\n",
    "sorted(os.listdir(\"5bus\"))"
   ]
  },
  {
   "cell_type": "markdown",
   "metadata": {},
   "source": [
    "### Looking at the data\n",
    "First, we'll peak at the `simulation_objects.csv` file:"
   ]
  },
  {
   "cell_type": "code",
   "execution_count": null,
   "metadata": {},
   "outputs": [],
   "source": [
    "import pandas as pd\n",
    "pd.read_csv(os.path.join(\"5bus\",\"simulation_objects.csv\"))"
   ]
  },
  {
   "cell_type": "markdown",
   "metadata": {},
   "source": [
    "This shows that the effective dates for this data are January 1, 2020 to December 31, 2020, limiting the potential scope of any Prescient simulation to be within these dates. Further, based on the `Period_Resolution` we see that the day-ahead data is specified at an hourly resolution and the real-time data is specified at a 5-minute resolution.\n",
    "\n",
    "Prescient supports running the real-time economic dispatch problem at a finer or coarser frequency than the provided data, so long as the frequency is divides 60 minutes.\n",
    "\n",
    "\n",
    "Similarly, we can look at the static data files:"
   ]
  },
  {
   "cell_type": "code",
   "execution_count": null,
   "metadata": {},
   "outputs": [],
   "source": [
    "pd.read_csv(os.path.join(\"5bus\",\"branch.csv\"))"
   ]
  },
  {
   "cell_type": "code",
   "execution_count": null,
   "metadata": {},
   "outputs": [],
   "source": [
    "pd.read_csv(os.path.join(\"5bus\",\"bus.csv\"))"
   ]
  },
  {
   "cell_type": "code",
   "execution_count": null,
   "metadata": {},
   "outputs": [],
   "source": [
    "pd.read_csv(os.path.join(\"5bus\",\"gen.csv\"))"
   ]
  },
  {
   "cell_type": "code",
   "execution_count": null,
   "metadata": {},
   "outputs": [],
   "source": [
    "pd.read_csv(os.path.join(\"5bus\",\"reserves.csv\"))"
   ]
  },
  {
   "cell_type": "markdown",
   "metadata": {},
   "source": [
    "Currently, the 5-bus simulation does not define any reserve requirements. We will show later how to add a basic reserve requirement as part of the options to Prescient.\n",
    "\n",
    "\n",
    "`timeseries_pointers.csv` connects columns in the data files, (such as `gen.csv`'s `PMax MW`) to time series data, as well as defining the load for each Area defined in `bus.csv`."
   ]
  },
  {
   "cell_type": "code",
   "execution_count": null,
   "metadata": {},
   "outputs": [],
   "source": [
    "pd.read_csv(os.path.join(\"5bus\",\"timeseries_pointers.csv\"))"
   ]
  },
  {
   "cell_type": "markdown",
   "metadata": {},
   "source": [
    "Here `Simulation` tells if the data is for day-ahead or real-time, `Category` could be `Generator`, `Area`, or `Reserve`, `Object` tells us the name or row(s) in the associated data file, and the `Parameter` specifies what column is updated with time series data. Finally, the `Data File` is the relative or absolute location of the data csv file on disk.\n",
    "\n",
    "\n",
    "As an example, let's look at the `DAY_AHEAD_renewables.csv`:"
   ]
  },
  {
   "cell_type": "code",
   "execution_count": null,
   "metadata": {},
   "outputs": [],
   "source": [
    "pd.read_csv(os.path.join(\"5bus\",\"DAY_AHEAD_renewables.csv\"))"
   ]
  },
  {
   "cell_type": "markdown",
   "metadata": {},
   "source": [
    "We see the `Year`/`Month`/`Day`/`Period` specified for each value, and the other columns are associated with the `Object` from `timeseries_pointers.csv`. Note that there's only one value for each item -- by the definitions in `timeseries_pointers.csv`, `1_HYDRO` and `2_RTPV` have **both** their `PMin MW` **and** `PMax MW` updated with these time series values, whereas `10_PV` and `4_WIND` have **only** their `PMax MW` updated. Because all `10_PV` and `4_WIND` have a `PMin MW` of `0`, this means these resources are fully curtailable, whereas `1_HYDRO` and `2_RTPV` are must-take because `PMin MW` and `PMax MW` are set to the same value.\n",
    "\n",
    "\n",
    "Finally, let's look at `DAY_AHEAD_load.csv`:"
   ]
  },
  {
   "cell_type": "code",
   "execution_count": null,
   "metadata": {},
   "outputs": [],
   "source": [
    "pd.read_csv(os.path.join(\"5bus\",\"DAY_AHEAD_load.csv\"))"
   ]
  },
  {
   "cell_type": "markdown",
   "metadata": {},
   "source": [
    "The load for each Area is distributed amoungst the buses by using a load participation factor calculated from the `MW Load` column for each bus. Recalling that data:"
   ]
  },
  {
   "cell_type": "code",
   "execution_count": null,
   "metadata": {},
   "outputs": [],
   "source": [
    "pd.read_csv(os.path.join(\"5bus\",\"bus.csv\"))[[\"Bus ID\",\"MW Load\", \"Area\"]]"
   ]
  },
  {
   "cell_type": "markdown",
   "metadata": {},
   "source": [
    "So buses 1, 4, and 10 in Area 1 have load participation factors of `0.0`, `1.0` and `0.0`, respectively, while buses 2 and 3 in Area 2 both have load participation factors of `0.5`.\n",
    "\n",
    "NOTE: Currently for Prescient you **must** specify load by Area. If load is individualized to a specific bus, then it can be part of its own area.\n",
    "\n",
    "\n",
    "### Real-Time Data\n",
    "While we haven't looked at it explicitly, the real-time csv files work in a similar fashion to the day-ahead files. The day-ahead time series get applied for the day-ahead unit commitment, and the real-time time series files are applied for the real-time economic dispatch. The allows Prescient to realistically represent uncertainty in the system when committing units in the day-ahead market."
   ]
  },
  {
   "cell_type": "markdown",
   "metadata": {},
   "source": [
    "## Running the simulator\n",
    "Next we show how to set-up and run the simulator. From a Python script this can be accomplished easily, if you know the needed options:"
   ]
  },
  {
   "cell_type": "code",
   "execution_count": null,
   "metadata": {},
   "outputs": [],
   "source": [
    "from prescient.simulator import Prescient\n",
    "Prescient().simulate(\n",
    "        data_path = \"5bus\",     # Where the source data is\n",
    "        input_format = \"rts-gmlc\", # Use the rts-gmlc input format, default is deprecated dat-files\n",
    "        simulate_out_of_sample = True, # This option directs the simulator to use different forecasts from actuals.\n",
    "                                       # If False, the simulation is run with forecasts equal to actuals\n",
    "        run_sced_with_persistent_forecast_errors = True, # This option directs the simulator to use forecasts\n",
    "                                                         #(adjusted by the current forecast error) for SCED\n",
    "                                                         # look-ahead periods, instead of using the actuals\n",
    "                                                         # for SCED look-ahead periods.\n",
    "        output_directory = \"5bus_output\", # Where to write the output data\n",
    "        start_date = \"07-10-2020\", # Date to start the simulation on, must be within the range of the data.\n",
    "        num_days = 7, # Number of days to simulate, including the start date. All days must be in the data.\n",
    "        reserve_factor = 0.1, # Additional reserve factor *not* included in the data.\n",
    "                              # Input is a fraction of load at every time step\n",
    "       \n",
    "        sced_solver = \"cbc\", # (MI)LP solver to use for the SCED\n",
    "        sced_frequency_minutes = 15, # SCED frequency in minutes. While a 5-minute SCED provides high-fidelity\n",
    "                                    # data, a 15 or 60 minute SCED will likely decrease the simulation time\n",
    "                                    # by approximately a factor of 3 or 10, respectively. The 5-bus test case has \n",
    "                                    # 5-mintue real-time data, but we're under no obligation for the SCED frequency\n",
    "                                    # to match that -- it can be more or less frequently than the provided data.\n",
    "        sced_horizon = 1, # Number of look-ahead periods (in sced_frequency_minutes) in the real-time SCED\n",
    "        sced_slack_type = \"ref-bus-and-branches\", # Slacks on the branch flows and power-balance at reference bus\n",
    "                                                  # in SCED. The default has **no** slacks on the branch flows but\n",
    "                                                  # at every bus's power-balance equation\n",
    "        ruc_slack_type = \"ref-bus-and-branches\", # Similar to `sced_slack_type`, except for the day-ahead\n",
    "                                                 # unit commitment problem.\n",
    "        ruc_horizon = 36, # Number of hours in unit commitment. Typically needs to be at least 24.\n",
    "        ruc_mipgap = 0.01, # mipgap for the day-ahead unit commitment\n",
    "        deterministic_ruc_solver = \"cbc\", # MILP solver to use for unit commitment\n",
    "                                          # (e.g., cbc, gurobi, cplex, xpress)\n",
    "        deterministic_ruc_solver_options = {\"feas\":\"off\", \"DivingF\":\"on\",}, # additional options for the MIP solver\n",
    "        output_solver_logs = False, # If True, outputs the logs from the unit commitment and SCED solves\n",
    "        compute_market_settlements = True, # If True, solves a day-ahead pricing problem (in addition to the\n",
    "                                           # real-time pricing problem) and computes generator revenue based\n",
    "                                           # on day-ahead and real-time prices.\n",
    "        monitor_all_contingencies = True, # If True, monitors and enforces **all** T-1 transmission constraints.\n",
    "                                          # Can be computationally prohibitive for larger systems.\n",
    "                                          # A future version of Prescient will allow for supplying a contingency\n",
    "                                          # monitoring list.\n",
    "        price_threshold = 1000, # Maximum day-ahead or real-time price for energy in $/MWh. Only affects price\n",
    "                                # computation, **not** commitment/dispatch.\n",
    "        contingency_price_threshold = 100, # Penalty factor for contingency constraint violation in $/MWh. Only\n",
    "                                           # affects price computation, **not** commitment/dispatch.\n",
    "        reserve_price_threshold = 5, # Maximum day-ahead or real-time price for reserves in $/MWh. Only affects\n",
    "                                     # price computation, **not** commitment/dispatch.\n",
    ")"
   ]
  },
  {
   "cell_type": "markdown",
   "metadata": {},
   "source": [
    "## Analyzing results\n",
    "Summary and detailed `*.csv` files are written to the specified output directory (in this case, `5bus_output`)."
   ]
  },
  {
   "cell_type": "code",
   "execution_count": null,
   "metadata": {},
   "outputs": [],
   "source": [
    "sorted(os.listdir(\"5bus_output\"))"
   ]
  },
  {
   "cell_type": "markdown",
   "metadata": {},
   "source": [
    "Below we give a breif description of the contents of each file.\n",
    "- `bus_detail.csv`: Detailed results (demand, LMP, etc.) by bus.\n",
    "- `contingency_detail.csv`: Detailed contingeny flows for monitored contingencies for each SCED period.\n",
    "- `daily_summary.csv`: Summary results by day. Demand, renewables data, costs, load shedding/over generation, etc.\n",
    "- `hourly_gen_summary.csv`: Gives total thermal headroom and data on reserves (shortfall, price) by hour.\n",
    "- `hourly_summary.csv`: Summary results by hour. Similar to `daily_summary.csv`.\n",
    "- `line_detail.csv`: Detailed results (flow in MW) by bus.\n",
    "- `overall_simulation_output.csv`: Summary results for the entire simulation run. Similar to `daily_summary.csv`.\n",
    "- `plots`: Directory containing stackgraphs for every day of the simulation.\n",
    "- `renewables_detail.csv`: Detailed results (output, curtailment) by renewable generator.\n",
    "- `runtimes.csv`: Runtimes for each economic dispatch problem.\n",
    "- `thermal_detail.csv`: Detailed results (dispatch, commitment, costs) per thermal generator.\n",
    "- `virtual_detail.csv`: Detailed results (dispatch) by virtual generator.\n",
    "\n",
    "\n",
    "### Plots\n",
    "Generally, the first think to look at, as a sanity check, is the stackgraphs:"
   ]
  },
  {
   "cell_type": "code",
   "execution_count": null,
   "metadata": {
    "scrolled": false
   },
   "outputs": [],
   "source": [
    "dates = [f\"2020-07-1{i}\" for i in range(0,7)]\n",
    "from IPython.display import Image\n",
    "for date in dates:\n",
    "    display(Image(os.path.join(\"5bus_output\",\"plots\",f\"stackgraph_{date}.png\")))"
   ]
  },
  {
   "cell_type": "markdown",
   "metadata": {},
   "source": [
    "### Plotting LMPs over time"
   ]
  },
  {
   "cell_type": "code",
   "execution_count": null,
   "metadata": {
    "scrolled": true
   },
   "outputs": [],
   "source": [
    "from matplotlib import pyplot as plt\n",
    "def prescient_output_to_df(file_name):\n",
    "    '''Helper for loading data from Prescient output csv.\n",
    "        Combines Datetimes into single column.\n",
    "    '''\n",
    "    df = pd.read_csv(file_name)\n",
    "    df['Datetime'] = \\\n",
    "        pd.to_datetime(df['Date']) + \\\n",
    "        pd.to_timedelta(df['Hour'], 'hour') + \\\n",
    "        pd.to_timedelta(df['Minute'], 'minute')\n",
    "    df.drop(columns=['Date','Hour','Minute'], inplace=True)\n",
    "    # put 'Datetime' in front\n",
    "    cols = df.columns.tolist()\n",
    "    cols = cols[-1:]+cols[:-1]\n",
    "    return df[cols]\n",
    "\n",
    "bus_detail = prescient_output_to_df(os.path.join(\"5bus_output\",\"bus_detail.csv\"))\n",
    "bus_detail.set_index('Datetime', inplace=True)"
   ]
  },
  {
   "cell_type": "code",
   "execution_count": null,
   "metadata": {},
   "outputs": [],
   "source": [
    "# Pandas df with the data from bus_detail.csv\n",
    "bus_detail"
   ]
  },
  {
   "cell_type": "code",
   "execution_count": null,
   "metadata": {},
   "outputs": [],
   "source": [
    "# plot the LMPs\n",
    "bus_detail.groupby(\"Bus\")[\"LMP\"].plot(legend=True, ylabel='LMP ($/MWh)', figsize=(10,5))\n",
    "plt.show()"
   ]
  },
  {
   "cell_type": "markdown",
   "metadata": {},
   "source": [
    "As we can see, the LMPs for bus2 and bus3 (in Area 2) sometimes have much higher LMPs than bus1, bus10, and bus4. This is typically driven by binding transmission constraints. We can examine the binding transmission constraints by looking at the files `line_detail.csv` and `contingency_detail.csv`.\n",
    "\n",
    "### Examining Base-Case Transmission Line Flows"
   ]
  },
  {
   "cell_type": "code",
   "execution_count": null,
   "metadata": {},
   "outputs": [],
   "source": [
    "# load in the output data for the base-case nominal line flow\n",
    "line_detail = prescient_output_to_df(os.path.join(\"5bus_output\",\"line_detail.csv\"))\n",
    "\n",
    "# load in the branch input file, which has the line limits\n",
    "branch_csv = pd.read_csv(os.path.join(\"5bus\",\"branch.csv\"), index_col=0)"
   ]
  },
  {
   "cell_type": "code",
   "execution_count": null,
   "metadata": {},
   "outputs": [],
   "source": [
    "rate_A_limits = branch_csv['Cont Rating']\n",
    "# rename the line_limits to match the\n",
    "# index of line_flows\n",
    "rate_A_limits.index.name = \"Line\"\n",
    "rate_A_limits"
   ]
  },
  {
   "cell_type": "code",
   "execution_count": null,
   "metadata": {},
   "outputs": [],
   "source": [
    "import numpy as np\n",
    "# index line_detail by \"Datetime\" and \"Line\"\n",
    "line_detail.set_index([\"Datetime\", \"Line\"], inplace=True)\n",
    "line_detail[\"Relative Flow\"] = np.abs(line_detail['Flow']/rate_A_limits)\n",
    "line_detail"
   ]
  },
  {
   "cell_type": "code",
   "execution_count": null,
   "metadata": {},
   "outputs": [],
   "source": [
    "# find periods where the flow is near the limit\n",
    "line_detail[line_detail['Relative Flow']>0.99]"
   ]
  },
  {
   "cell_type": "markdown",
   "metadata": {},
   "source": [
    "As we can see, there are no lines close to their limits. Next we'll consider the contingency flows.\n",
    "\n",
    "### Examining Transmission Contingency Violations"
   ]
  },
  {
   "cell_type": "code",
   "execution_count": null,
   "metadata": {},
   "outputs": [],
   "source": [
    "# load in the output data for the line flow under monitored contingencies\n",
    "contingency_detail = prescient_output_to_df(os.path.join(\"5bus_output\",\"contingency_detail.csv\"))\n",
    "contingency_detail.set_index([\"Datetime\", \"Contingency\", \"Line\"], inplace=True)\n",
    "contingency_detail"
   ]
  },
  {
   "cell_type": "code",
   "execution_count": null,
   "metadata": {},
   "outputs": [],
   "source": [
    "# grab the short-term rating used for contingencies\n",
    "rate_C_limits = branch_csv[\"STE Rating\"]\n",
    "rate_C_limits.index.name = \"Line\"\n",
    "rate_C_limits"
   ]
  },
  {
   "cell_type": "code",
   "execution_count": null,
   "metadata": {},
   "outputs": [],
   "source": [
    "contingency_detail[\"Relative Flow\"] = np.abs(contingency_detail['Flow']/rate_C_limits)\n",
    "contingency_detail"
   ]
  },
  {
   "cell_type": "code",
   "execution_count": null,
   "metadata": {},
   "outputs": [],
   "source": [
    "# find periods where the flow is near the limit\n",
    "contingency_detail[contingency_detail['Relative Flow']>0.99]"
   ]
  },
  {
   "cell_type": "markdown",
   "metadata": {},
   "source": [
    "As we can see, Line `branch_3_4_1` is at or near its contingency limit for a good portion of the simulation when `branch_1_2` is on contingency outage. This causes congestion between Area 1 (bus1, bus4, & bus10) and Area 2 (bus2 & bus3), and the $100/MWh contingency flow violation cost is split between the LMP on bus2 and bus3.\n",
    "\n",
    "Depending on the analysis to be done, one could increase or decrease the option `contingency_price_threshold` to achieve a different result."
   ]
  }
 ],
 "metadata": {
  "kernelspec": {
   "display_name": "Python 3",
   "language": "python",
   "name": "python3"
  },
  "language_info": {
   "codemirror_mode": {
    "name": "ipython",
    "version": 3
   },
   "file_extension": ".py",
   "mimetype": "text/x-python",
   "name": "python",
   "nbconvert_exporter": "python",
   "pygments_lexer": "ipython3",
   "version": "3.7.7"
  }
 },
 "nbformat": 4,
 "nbformat_minor": 4
}
